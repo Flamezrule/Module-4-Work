{
 "cells": [
  {
   "cell_type": "code",
   "execution_count": 51,
   "id": "eea3726d-a7e8-4f9e-9c79-e69817948ecb",
   "metadata": {},
   "outputs": [
    {
     "name": "stdout",
     "output_type": "stream",
     "text": [
      "Open 9-5 Daily\n",
      "Open 9-5 Daily\n",
      "('Perdido Street Station',)\n",
      "('Small Gods',)\n",
      "('The Spellman Files',)\n",
      "('The Weirdstone of Brisingamen',)\n",
      "('Thud!',)\n"
     ]
    }
   ],
   "source": [
    "#11.1\n",
    "import zoo\n",
    "zoo.hours()\n",
    "#11.2\n",
    "import zoo as menagerie\n",
    "menagerie.hours()\n",
    "#16.8\n",
    "import sqlalchemy\n",
    "from sqlalchemy import text\n",
    "engine = sqlalchemy.create_engine('sqlite:///books.db')\n",
    "with engine.connect() as conn:\n",
    "    query = text(\"select title from book order by title asc\")\n",
    "    rows = conn.execute(query)\n",
    "    for row in rows:\n",
    "        print(row)"
   ]
  }
 ],
 "metadata": {
  "kernelspec": {
   "display_name": "Python 3 (ipykernel)",
   "language": "python",
   "name": "python3"
  },
  "language_info": {
   "codemirror_mode": {
    "name": "ipython",
    "version": 3
   },
   "file_extension": ".py",
   "mimetype": "text/x-python",
   "name": "python",
   "nbconvert_exporter": "python",
   "pygments_lexer": "ipython3",
   "version": "3.12.7"
  }
 },
 "nbformat": 4,
 "nbformat_minor": 5
}
